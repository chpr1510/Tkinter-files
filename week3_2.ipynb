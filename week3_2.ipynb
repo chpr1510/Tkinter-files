{
 "cells": [
  {
   "cell_type": "code",
   "execution_count": 5,
   "metadata": {},
   "outputs": [
    {
     "ename": "NameError",
     "evalue": "name '__init__' is not defined",
     "output_type": "error",
     "traceback": [
      "\u001b[1;31m---------------------------------------------------------------------------\u001b[0m",
      "\u001b[1;31mNameError\u001b[0m                                 Traceback (most recent call last)",
      "\u001b[1;32m<ipython-input-5-c0d11cfbc099>\u001b[0m in \u001b[0;36m<module>\u001b[1;34m\u001b[0m\n\u001b[0;32m     21\u001b[0m         \u001b[0mprint\u001b[0m\u001b[1;33m(\u001b[0m\u001b[0mcalculate\u001b[0m\u001b[1;33m(\u001b[0m\u001b[1;33m)\u001b[0m\u001b[1;33m)\u001b[0m\u001b[1;33m\u001b[0m\u001b[1;33m\u001b[0m\u001b[0m\n\u001b[0;32m     22\u001b[0m \u001b[1;33m\u001b[0m\u001b[0m\n\u001b[1;32m---> 23\u001b[1;33m \u001b[0mc\u001b[0m\u001b[1;33m=\u001b[0m\u001b[0m__init__\u001b[0m\u001b[1;33m(\u001b[0m\u001b[1;33m)\u001b[0m\u001b[1;33m\u001b[0m\u001b[1;33m\u001b[0m\u001b[0m\n\u001b[0m",
      "\u001b[1;31mNameError\u001b[0m: name '__init__' is not defined"
     ]
    }
   ],
   "source": [
    "class bill:\n",
    "    def __init__(self):\n",
    "        prev=int(input(\"enter previous reading:\"))\n",
    "        curr=int(input(\"enter current reading:\"))\n",
    "        self.p=prev\n",
    "        self.c=curr\n",
    "        c.display()\n",
    "        \n",
    "    def calculate(self):\n",
    "        diff=self.curr-self.prev\n",
    "        if (units <= 100):\n",
    "            return units * 0;  \n",
    "        elif (units <= 200): \n",
    "            return ((100 * 0) +(units - 100) * 1);  \n",
    "        elif (units <= 300):\n",
    "            return ((100 * 0) + (100 * 1) + (units - 200) * 2);  \n",
    "        elif (units > 300): \n",
    "            return ((100 * 0) +(100 * 1) + (100 * 2) + (units - 300) * 3);\n",
    "        \n",
    "    def display():\n",
    "        print(calculate())\n",
    "        \n",
    "c=__init__()"
   ]
  },
  {
   "cell_type": "code",
   "execution_count": null,
   "metadata": {},
   "outputs": [],
   "source": []
  }
 ],
 "metadata": {
  "kernelspec": {
   "display_name": "Python 3",
   "language": "python",
   "name": "python3"
  },
  "language_info": {
   "codemirror_mode": {
    "name": "ipython",
    "version": 3
   },
   "file_extension": ".py",
   "mimetype": "text/x-python",
   "name": "python",
   "nbconvert_exporter": "python",
   "pygments_lexer": "ipython3",
   "version": "3.8.5"
  }
 },
 "nbformat": 4,
 "nbformat_minor": 4
}
