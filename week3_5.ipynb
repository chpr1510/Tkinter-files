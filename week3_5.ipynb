{
 "cells": [
  {
   "cell_type": "code",
   "execution_count": 23,
   "metadata": {},
   "outputs": [
    {
     "name": "stdout",
     "output_type": "stream",
     "text": [
      "After 1st month:\n",
      "1.Infrastructure of the work area\n",
      "-----Work in progress-----\n",
      "\n",
      "\n",
      "After 2nd month:\n",
      "1.Infrastructure of the work area\n",
      "2.capital and funding\n",
      "-----Work in progress-----\n",
      "\n",
      "\n",
      "After 3rd month:\n",
      "1.Infrastructure of the work area\n",
      "2.capital and funding\n",
      "3.human resources\n",
      "-*-*-*-Started implementing-*-*-*-\n"
     ]
    }
   ],
   "source": [
    "from abc import ABC, abstractmethod\n",
    "class month1(ABC):\n",
    "    def work(self):\n",
    "        print(\"1.Infrastructure of the work area\")\n",
    "class month2(month1):\n",
    "    def work(self):\n",
    "        super().work()\n",
    "        print(\"2.capital and funding\")\n",
    "class month3(month2):\n",
    "    def work(self):\n",
    "        super().work()\n",
    "        print(\"3.human resources\")\n",
    "        \n",
    "\n",
    "print(\"After 1st month:\")\n",
    "x=month1()\n",
    "x.work()\n",
    "print(\"-----Work in progress-----\")\n",
    "print(\"\\n\")\n",
    "print(\"After 2nd month:\")\n",
    "y=month2()\n",
    "y.work()\n",
    "print(\"-----Work in progress-----\")\n",
    "print(\"\\n\")\n",
    "print(\"After 3rd month:\")\n",
    "z=month3()\n",
    "z.work()\n",
    "print(\"-*-*-*-Started implementing-*-*-*-\")\n",
    "\n",
    "    \n"
   ]
  },
  {
   "cell_type": "code",
   "execution_count": null,
   "metadata": {},
   "outputs": [],
   "source": []
  }
 ],
 "metadata": {
  "kernelspec": {
   "display_name": "Python 3",
   "language": "python",
   "name": "python3"
  },
  "language_info": {
   "codemirror_mode": {
    "name": "ipython",
    "version": 3
   },
   "file_extension": ".py",
   "mimetype": "text/x-python",
   "name": "python",
   "nbconvert_exporter": "python",
   "pygments_lexer": "ipython3",
   "version": "3.8.5"
  }
 },
 "nbformat": 4,
 "nbformat_minor": 4
}
