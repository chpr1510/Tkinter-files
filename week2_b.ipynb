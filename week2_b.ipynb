{
 "cells": [
  {
   "cell_type": "code",
   "execution_count": 8,
   "metadata": {},
   "outputs": [
    {
     "name": "stdout",
     "output_type": "stream",
     "text": [
      "enter n value:8\n",
      "1\n",
      "2\n",
      "3\n",
      "3\n",
      "3\n",
      "3\n",
      "4\n",
      "5\n",
      "Sample list:  [1, 2, 3, 3, 3, 3, 4, 5]\n",
      "unique list: [1, 2, 3, 4, 5]\n"
     ]
    }
   ],
   "source": [
    "remove_dups_lambda= lambda numbers : list(set(numbers))\n",
    " \n",
    "n=int(input(\"enter n value:\"))    \n",
    "l1=[]\n",
    "for i in range(0,n):\n",
    "    l1.append(int(input()))\n",
    "    \n",
    "print(\"Sample list: \", l1)\n",
    "l2 =remove_dups_lambda(l1)\n",
    "print(\"unique list:\", l2)"
   ]
  },
  {
   "cell_type": "code",
   "execution_count": null,
   "metadata": {},
   "outputs": [],
   "source": []
  },
  {
   "cell_type": "code",
   "execution_count": null,
   "metadata": {},
   "outputs": [],
   "source": []
  }
 ],
 "metadata": {
  "kernelspec": {
   "display_name": "Python 3",
   "language": "python",
   "name": "python3"
  },
  "language_info": {
   "codemirror_mode": {
    "name": "ipython",
    "version": 3
   },
   "file_extension": ".py",
   "mimetype": "text/x-python",
   "name": "python",
   "nbconvert_exporter": "python",
   "pygments_lexer": "ipython3",
   "version": "3.8.5"
  }
 },
 "nbformat": 4,
 "nbformat_minor": 4
}
